{
 "cells": [
  {
   "cell_type": "markdown",
   "metadata": {},
   "source": [
    "# Small python notebook for retrieving user_ids for unlockable campaigns"
   ]
  },
  {
   "cell_type": "code",
   "execution_count": 57,
   "metadata": {},
   "outputs": [],
   "source": [
    "import pandas as pd\n",
    "from pandas import DataFrame, Series\n",
    "import datetime\n",
    "import numpy as np\n",
    "import pyodbc\n",
    "import os"
   ]
  },
  {
   "cell_type": "code",
   "execution_count": 58,
   "metadata": {},
   "outputs": [],
   "source": [
    "conn = pyodbc.connect('DSN=Redshift_live')\n",
    "\n",
    "conn.setencoding('utf-8')\n",
    "\n",
    "def query(q):\n",
    "    return pd.read_sql(q, conn)"
   ]
  },
  {
   "cell_type": "code",
   "execution_count": 59,
   "metadata": {},
   "outputs": [],
   "source": [
    "import platform\n",
    "import json\n",
    "import datetime\n",
    "\n",
    "def query(q):\n",
    "    print(\"query started at: {0}\".format(datetime.datetime.now().time()))\n",
    "    df = pd.read_sql(q, conn, chunksize = None)\n",
    "    print(\"query ended at: {0}\".format(datetime.datetime.now().time()))    \n",
    "    #if platform.system() == 'Windows':\n",
    "    #    conn.close()\n",
    "    return df\n",
    "\n",
    "def list_to_string(lst):\n",
    "    s = \",\".join(map(str, lst))   \n",
    "    return s"
   ]
  },
  {
   "cell_type": "code",
   "execution_count": 26,
   "metadata": {},
   "outputs": [],
   "source": [
    "data_path = '/Users/gadir/Python/Unlockable/tables'\n",
    "\n",
    "\n",
    "\n",
    "if not os.path.exists(data_path+'//data//'):\n",
    "    os.makedirs(data_path+'//data//')"
   ]
  },
  {
   "cell_type": "code",
   "execution_count": 19,
   "metadata": {},
   "outputs": [],
   "source": [
    "def get_unlock_user_ids(treatment_ids):\n",
    "    treatment_ids = list_to_string(treatment_ids)\n",
    "    q = \"\"\"\n",
    "     select \n",
    "         cte.user_id, \n",
    "         ctt.id as treatment_id,\n",
    "         count(o.id) as rides_count\n",
    "     from public.campaign_targeting_treatment ctt \n",
    "     left join public.campaign_targeting_enrollment cte on cte.treatment_id = ctt.id \n",
    "     left join company_order o on o.user_id = cte.user_id \n",
    "         and o.company_id IS null --historic dispatch button\n",
    "            AND o.reseller_company_id IS NULL --historic dispatch button\n",
    "            and o.state = 'finished' --finished from both rider and driver side\n",
    "            and o.created::date > cte.created::date\n",
    "     LEFT JOIN public.company_order_try ot ON ot.order_id=o.id \n",
    "         AND ot.city_id=o.city_id \n",
    "         and ot.retry_to_try IS null \n",
    "         and ot.state = 'finished' \n",
    "    where\n",
    "    ctt.id in ({0})\n",
    "    and cte.state = 'finished'\n",
    "     group by 1,2\n",
    "     --having rides_count > 1\n",
    "    \"\"\".format(treatment_ids)\n",
    "    \n",
    "    return q"
   ]
  },
  {
   "cell_type": "code",
   "execution_count": 20,
   "metadata": {},
   "outputs": [],
   "source": [
    "def get_rfm_user_ids(treatment_ids):\n",
    "    treatment_ids = list_to_string(treatment_ids)\n",
    "    q = \"\"\"\n",
    "     select cte.user_id\n",
    " from public.campaign_targeting_treatment ctt \n",
    " left join public.campaign_targeting_enrollment cte on cte.treatment_id = ctt.id \n",
    " where ctt.id in ({0})\n",
    "    \"\"\".format(treatment_ids)\n",
    "    \n",
    "    return q"
   ]
  },
  {
   "cell_type": "code",
   "execution_count": 21,
   "metadata": {},
   "outputs": [
    {
     "name": "stdout",
     "output_type": "stream",
     "text": [
      "query started at: 20:23:48.873066\n",
      "query ended at: 20:23:56.688201\n"
     ]
    }
   ],
   "source": [
    "#get info about campaigns \n",
    "\n",
    "info = query('''\n",
    "select \n",
    "\tt.name test_name,\n",
    "\ttt.id treatment_id,\n",
    "\ttt.bonus_type,\n",
    "\tcase when tt.bonus_data like '%targeted_campaign_id%' \n",
    "        then json_extract_path_text(tt.bonus_data,'targeted_campaign_id')::int else null end as targeted_campaign_id,\n",
    "\tc.name campaign_name,\n",
    "\tcase when c.bonus_data like '%percentage%' \n",
    "        then  json_extract_path_text(c.bonus_data,'percentage') else '?' end as  campaign_percentage,\n",
    "\tcase when c.bonus_data like '%max_value%' \n",
    "        then  json_extract_path_text(c.bonus_data,'max_value')  else '?' end as campaign_max_value,\n",
    "\tcount(e.user_id) enrollment_count\n",
    "from campaign_targeting_enrollment e \n",
    "left join campaign_targeting_test t on t.id = e.test_id\n",
    "left join campaign_targeting_treatment tt on tt.id = e.treatment_id\n",
    "left join campaign_targeted_campaign c on c.id = case when tt.bonus_data like '%targeted_campaign_id%' then json_extract_path_text(tt.bonus_data,'targeted_campaign_id')::int else null end\n",
    "where \n",
    "\tt.city_id = (select id from admin_system_city where name = 'Durban')\n",
    "\tand t.created::date > '2021-01-20'\n",
    "\tand tt.distribution = 5\n",
    "\tand e.state = 'finished'\n",
    "group by 1,2,3,4,5,6,7\n",
    "''')\n"
   ]
  },
  {
   "cell_type": "code",
   "execution_count": 60,
   "metadata": {},
   "outputs": [
    {
     "data": {
      "text/html": [
       "<div>\n",
       "<style scoped>\n",
       "    .dataframe tbody tr th:only-of-type {\n",
       "        vertical-align: middle;\n",
       "    }\n",
       "\n",
       "    .dataframe tbody tr th {\n",
       "        vertical-align: top;\n",
       "    }\n",
       "\n",
       "    .dataframe thead th {\n",
       "        text-align: right;\n",
       "    }\n",
       "</style>\n",
       "<table border=\"1\" class=\"dataframe\">\n",
       "  <thead>\n",
       "    <tr style=\"text-align: right;\">\n",
       "      <th></th>\n",
       "      <th>test_name</th>\n",
       "      <th>treatment_id</th>\n",
       "      <th>bonus_type</th>\n",
       "      <th>targeted_campaign_id</th>\n",
       "      <th>campaign_name</th>\n",
       "      <th>campaign_percentage</th>\n",
       "      <th>campaign_max_value</th>\n",
       "      <th>enrollment_count</th>\n",
       "    </tr>\n",
       "  </thead>\n",
       "  <tbody>\n",
       "    <tr>\n",
       "      <th>6</th>\n",
       "      <td>ZA, Durban, 2021W4, Low activity</td>\n",
       "      <td>34911</td>\n",
       "      <td>targeted_campaign</td>\n",
       "      <td>22992.0</td>\n",
       "      <td>ZA, Durban, 2021W4, LA, -20% x 10 (10 ZAR) C</td>\n",
       "      <td>20</td>\n",
       "      <td>10</td>\n",
       "      <td>4249</td>\n",
       "    </tr>\n",
       "    <tr>\n",
       "      <th>10</th>\n",
       "      <td>ZA, Durban, 2021W4, Low activity</td>\n",
       "      <td>34912</td>\n",
       "      <td>targeted_campaign</td>\n",
       "      <td>22994.0</td>\n",
       "      <td>ZA, Durban, 2021W4, LA, -40% x 10 (19 ZAR) D</td>\n",
       "      <td>40</td>\n",
       "      <td>19</td>\n",
       "      <td>4208</td>\n",
       "    </tr>\n",
       "    <tr>\n",
       "      <th>12</th>\n",
       "      <td>ZA, Durban, 2021W4, Not active</td>\n",
       "      <td>34907</td>\n",
       "      <td>targeted_campaign</td>\n",
       "      <td>22991.0</td>\n",
       "      <td>ZA, Durban, 2021W4, NA, -30% x 10 (15 ZAR) C</td>\n",
       "      <td>30</td>\n",
       "      <td>15</td>\n",
       "      <td>32688</td>\n",
       "    </tr>\n",
       "    <tr>\n",
       "      <th>24</th>\n",
       "      <td>ZA, Durban, 2021W4, Not active</td>\n",
       "      <td>34908</td>\n",
       "      <td>targeted_campaign</td>\n",
       "      <td>22993.0</td>\n",
       "      <td>ZA, Durban, 2021W4, NA, -50% x 10 (24 ZAR) D</td>\n",
       "      <td>50</td>\n",
       "      <td>24</td>\n",
       "      <td>33234</td>\n",
       "    </tr>\n",
       "    <tr>\n",
       "      <th>25</th>\n",
       "      <td>ZA, Durban, 2021W4, unlockable lock test, HR</td>\n",
       "      <td>34735</td>\n",
       "      <td>targeted_campaign</td>\n",
       "      <td>22904.0</td>\n",
       "      <td>ZA, Durban, 2021W4, unlockable lock test, -10%...</td>\n",
       "      <td>10</td>\n",
       "      <td>5</td>\n",
       "      <td>4772</td>\n",
       "    </tr>\n",
       "    <tr>\n",
       "      <th>15</th>\n",
       "      <td>ZA, Durban, 2021W4, unlockable lock test, MA</td>\n",
       "      <td>34727</td>\n",
       "      <td>targeted_campaign</td>\n",
       "      <td>22904.0</td>\n",
       "      <td>ZA, Durban, 2021W4, unlockable lock test, -10%...</td>\n",
       "      <td>10</td>\n",
       "      <td>5</td>\n",
       "      <td>2165</td>\n",
       "    </tr>\n",
       "    <tr>\n",
       "      <th>3</th>\n",
       "      <td>ZA, Durban, 2021W4, unlockable lock test, HF</td>\n",
       "      <td>34743</td>\n",
       "      <td>targeted_campaign</td>\n",
       "      <td>22904.0</td>\n",
       "      <td>ZA, Durban, 2021W4, unlockable lock test, -10%...</td>\n",
       "      <td>10</td>\n",
       "      <td>5</td>\n",
       "      <td>4655</td>\n",
       "    </tr>\n",
       "    <tr>\n",
       "      <th>1</th>\n",
       "      <td>ZA, Durban, 2021W4, unlockable lock test, MA</td>\n",
       "      <td>34728</td>\n",
       "      <td>targeted_campaign</td>\n",
       "      <td>22905.0</td>\n",
       "      <td>ZA, Durban, 2021W4, unlockable lock test, -20%...</td>\n",
       "      <td>20</td>\n",
       "      <td>10</td>\n",
       "      <td>2144</td>\n",
       "    </tr>\n",
       "    <tr>\n",
       "      <th>4</th>\n",
       "      <td>ZA, Durban, 2021W4, unlockable lock test, HR</td>\n",
       "      <td>34736</td>\n",
       "      <td>targeted_campaign</td>\n",
       "      <td>22905.0</td>\n",
       "      <td>ZA, Durban, 2021W4, unlockable lock test, -20%...</td>\n",
       "      <td>20</td>\n",
       "      <td>10</td>\n",
       "      <td>4903</td>\n",
       "    </tr>\n",
       "    <tr>\n",
       "      <th>2</th>\n",
       "      <td>ZA, Durban, 2021W4, unlockable lock test, HF</td>\n",
       "      <td>34744</td>\n",
       "      <td>targeted_campaign</td>\n",
       "      <td>22905.0</td>\n",
       "      <td>ZA, Durban, 2021W4, unlockable lock test, -20%...</td>\n",
       "      <td>20</td>\n",
       "      <td>10</td>\n",
       "      <td>4741</td>\n",
       "    </tr>\n",
       "    <tr>\n",
       "      <th>7</th>\n",
       "      <td>ZA, Durban, 2021W4, unlockable lock test, MA</td>\n",
       "      <td>34729</td>\n",
       "      <td>targeted_campaign</td>\n",
       "      <td>22906.0</td>\n",
       "      <td>ZA, Durban, 2021W4, unlockable lock test, -30%...</td>\n",
       "      <td>30</td>\n",
       "      <td>15</td>\n",
       "      <td>2126</td>\n",
       "    </tr>\n",
       "    <tr>\n",
       "      <th>21</th>\n",
       "      <td>ZA, Durban, 2021W4, unlockable lock test, HF</td>\n",
       "      <td>34745</td>\n",
       "      <td>targeted_campaign</td>\n",
       "      <td>22906.0</td>\n",
       "      <td>ZA, Durban, 2021W4, unlockable lock test, -30%...</td>\n",
       "      <td>30</td>\n",
       "      <td>15</td>\n",
       "      <td>4723</td>\n",
       "    </tr>\n",
       "    <tr>\n",
       "      <th>23</th>\n",
       "      <td>ZA, Durban, 2021W4, unlockable lock test, HR</td>\n",
       "      <td>34737</td>\n",
       "      <td>targeted_campaign</td>\n",
       "      <td>22906.0</td>\n",
       "      <td>ZA, Durban, 2021W4, unlockable lock test, -30%...</td>\n",
       "      <td>30</td>\n",
       "      <td>15</td>\n",
       "      <td>4826</td>\n",
       "    </tr>\n",
       "    <tr>\n",
       "      <th>9</th>\n",
       "      <td>ZA, Durban, 2021W4, unlockable lock test, HR</td>\n",
       "      <td>34738</td>\n",
       "      <td>targeted_campaign</td>\n",
       "      <td>22907.0</td>\n",
       "      <td>ZA, Durban, 2021W4, unlockable rfm test, -10% ...</td>\n",
       "      <td>10</td>\n",
       "      <td>5</td>\n",
       "      <td>4672</td>\n",
       "    </tr>\n",
       "    <tr>\n",
       "      <th>16</th>\n",
       "      <td>ZA, Durban, 2021W4, unlockable lock test, HF</td>\n",
       "      <td>34746</td>\n",
       "      <td>targeted_campaign</td>\n",
       "      <td>22907.0</td>\n",
       "      <td>ZA, Durban, 2021W4, unlockable rfm test, -10% ...</td>\n",
       "      <td>10</td>\n",
       "      <td>5</td>\n",
       "      <td>4607</td>\n",
       "    </tr>\n",
       "    <tr>\n",
       "      <th>17</th>\n",
       "      <td>ZA, Durban, 2021W4, unlockable lock test, MA</td>\n",
       "      <td>34730</td>\n",
       "      <td>targeted_campaign</td>\n",
       "      <td>22907.0</td>\n",
       "      <td>ZA, Durban, 2021W4, unlockable rfm test, -10% ...</td>\n",
       "      <td>10</td>\n",
       "      <td>5</td>\n",
       "      <td>2259</td>\n",
       "    </tr>\n",
       "    <tr>\n",
       "      <th>19</th>\n",
       "      <td>ZA, Durban, 2021W4, unlockable lock test, MA</td>\n",
       "      <td>34731</td>\n",
       "      <td>targeted_campaign</td>\n",
       "      <td>22908.0</td>\n",
       "      <td>ZA, Durban, 2021W4, unlockable rfm test, -20% ...</td>\n",
       "      <td>20</td>\n",
       "      <td>10</td>\n",
       "      <td>2178</td>\n",
       "    </tr>\n",
       "    <tr>\n",
       "      <th>20</th>\n",
       "      <td>ZA, Durban, 2021W4, unlockable lock test, HR</td>\n",
       "      <td>34739</td>\n",
       "      <td>targeted_campaign</td>\n",
       "      <td>22908.0</td>\n",
       "      <td>ZA, Durban, 2021W4, unlockable rfm test, -20% ...</td>\n",
       "      <td>20</td>\n",
       "      <td>10</td>\n",
       "      <td>4784</td>\n",
       "    </tr>\n",
       "    <tr>\n",
       "      <th>11</th>\n",
       "      <td>ZA, Durban, 2021W4, unlockable lock test, HF</td>\n",
       "      <td>34747</td>\n",
       "      <td>targeted_campaign</td>\n",
       "      <td>22908.0</td>\n",
       "      <td>ZA, Durban, 2021W4, unlockable rfm test, -20% ...</td>\n",
       "      <td>20</td>\n",
       "      <td>10</td>\n",
       "      <td>4676</td>\n",
       "    </tr>\n",
       "    <tr>\n",
       "      <th>5</th>\n",
       "      <td>ZA, Durban, 2021W4, unlockable lock test, MA</td>\n",
       "      <td>34732</td>\n",
       "      <td>targeted_campaign</td>\n",
       "      <td>22909.0</td>\n",
       "      <td>ZA, Durban, 2021W4, unlockable rfm test, -30% ...</td>\n",
       "      <td>30</td>\n",
       "      <td>15</td>\n",
       "      <td>2274</td>\n",
       "    </tr>\n",
       "    <tr>\n",
       "      <th>22</th>\n",
       "      <td>ZA, Durban, 2021W4, unlockable lock test, HF</td>\n",
       "      <td>34748</td>\n",
       "      <td>targeted_campaign</td>\n",
       "      <td>22909.0</td>\n",
       "      <td>ZA, Durban, 2021W4, unlockable rfm test, -30% ...</td>\n",
       "      <td>30</td>\n",
       "      <td>15</td>\n",
       "      <td>4670</td>\n",
       "    </tr>\n",
       "    <tr>\n",
       "      <th>8</th>\n",
       "      <td>ZA, Durban, 2021W4, unlockable lock test, HR</td>\n",
       "      <td>34740</td>\n",
       "      <td>targeted_campaign</td>\n",
       "      <td>22909.0</td>\n",
       "      <td>ZA, Durban, 2021W4, unlockable rfm test, -30% ...</td>\n",
       "      <td>30</td>\n",
       "      <td>15</td>\n",
       "      <td>4768</td>\n",
       "    </tr>\n",
       "    <tr>\n",
       "      <th>0</th>\n",
       "      <td>ZA, Durban, 2021W4, Not active</td>\n",
       "      <td>34909</td>\n",
       "      <td>targeted_control_campaign</td>\n",
       "      <td>NaN</td>\n",
       "      <td>None</td>\n",
       "      <td>?</td>\n",
       "      <td>?</td>\n",
       "      <td>32677</td>\n",
       "    </tr>\n",
       "    <tr>\n",
       "      <th>13</th>\n",
       "      <td>ZA, Durban, 2021W4, unlockable lock test, HR</td>\n",
       "      <td>34741</td>\n",
       "      <td>targeted_control_campaign</td>\n",
       "      <td>NaN</td>\n",
       "      <td>None</td>\n",
       "      <td>?</td>\n",
       "      <td>?</td>\n",
       "      <td>4778</td>\n",
       "    </tr>\n",
       "    <tr>\n",
       "      <th>14</th>\n",
       "      <td>ZA, Durban, 2021W4, unlockable lock test, MA</td>\n",
       "      <td>34733</td>\n",
       "      <td>targeted_control_campaign</td>\n",
       "      <td>NaN</td>\n",
       "      <td>None</td>\n",
       "      <td>?</td>\n",
       "      <td>?</td>\n",
       "      <td>2157</td>\n",
       "    </tr>\n",
       "    <tr>\n",
       "      <th>18</th>\n",
       "      <td>ZA, Durban, 2021W4, unlockable lock test, HF</td>\n",
       "      <td>34749</td>\n",
       "      <td>targeted_control_campaign</td>\n",
       "      <td>NaN</td>\n",
       "      <td>None</td>\n",
       "      <td>?</td>\n",
       "      <td>?</td>\n",
       "      <td>4711</td>\n",
       "    </tr>\n",
       "  </tbody>\n",
       "</table>\n",
       "</div>"
      ],
      "text/plain": [
       "                                       test_name  treatment_id  \\\n",
       "6               ZA, Durban, 2021W4, Low activity         34911   \n",
       "10              ZA, Durban, 2021W4, Low activity         34912   \n",
       "12                ZA, Durban, 2021W4, Not active         34907   \n",
       "24                ZA, Durban, 2021W4, Not active         34908   \n",
       "25  ZA, Durban, 2021W4, unlockable lock test, HR         34735   \n",
       "15  ZA, Durban, 2021W4, unlockable lock test, MA         34727   \n",
       "3   ZA, Durban, 2021W4, unlockable lock test, HF         34743   \n",
       "1   ZA, Durban, 2021W4, unlockable lock test, MA         34728   \n",
       "4   ZA, Durban, 2021W4, unlockable lock test, HR         34736   \n",
       "2   ZA, Durban, 2021W4, unlockable lock test, HF         34744   \n",
       "7   ZA, Durban, 2021W4, unlockable lock test, MA         34729   \n",
       "21  ZA, Durban, 2021W4, unlockable lock test, HF         34745   \n",
       "23  ZA, Durban, 2021W4, unlockable lock test, HR         34737   \n",
       "9   ZA, Durban, 2021W4, unlockable lock test, HR         34738   \n",
       "16  ZA, Durban, 2021W4, unlockable lock test, HF         34746   \n",
       "17  ZA, Durban, 2021W4, unlockable lock test, MA         34730   \n",
       "19  ZA, Durban, 2021W4, unlockable lock test, MA         34731   \n",
       "20  ZA, Durban, 2021W4, unlockable lock test, HR         34739   \n",
       "11  ZA, Durban, 2021W4, unlockable lock test, HF         34747   \n",
       "5   ZA, Durban, 2021W4, unlockable lock test, MA         34732   \n",
       "22  ZA, Durban, 2021W4, unlockable lock test, HF         34748   \n",
       "8   ZA, Durban, 2021W4, unlockable lock test, HR         34740   \n",
       "0                 ZA, Durban, 2021W4, Not active         34909   \n",
       "13  ZA, Durban, 2021W4, unlockable lock test, HR         34741   \n",
       "14  ZA, Durban, 2021W4, unlockable lock test, MA         34733   \n",
       "18  ZA, Durban, 2021W4, unlockable lock test, HF         34749   \n",
       "\n",
       "                   bonus_type  targeted_campaign_id  \\\n",
       "6           targeted_campaign               22992.0   \n",
       "10          targeted_campaign               22994.0   \n",
       "12          targeted_campaign               22991.0   \n",
       "24          targeted_campaign               22993.0   \n",
       "25          targeted_campaign               22904.0   \n",
       "15          targeted_campaign               22904.0   \n",
       "3           targeted_campaign               22904.0   \n",
       "1           targeted_campaign               22905.0   \n",
       "4           targeted_campaign               22905.0   \n",
       "2           targeted_campaign               22905.0   \n",
       "7           targeted_campaign               22906.0   \n",
       "21          targeted_campaign               22906.0   \n",
       "23          targeted_campaign               22906.0   \n",
       "9           targeted_campaign               22907.0   \n",
       "16          targeted_campaign               22907.0   \n",
       "17          targeted_campaign               22907.0   \n",
       "19          targeted_campaign               22908.0   \n",
       "20          targeted_campaign               22908.0   \n",
       "11          targeted_campaign               22908.0   \n",
       "5           targeted_campaign               22909.0   \n",
       "22          targeted_campaign               22909.0   \n",
       "8           targeted_campaign               22909.0   \n",
       "0   targeted_control_campaign                   NaN   \n",
       "13  targeted_control_campaign                   NaN   \n",
       "14  targeted_control_campaign                   NaN   \n",
       "18  targeted_control_campaign                   NaN   \n",
       "\n",
       "                                        campaign_name campaign_percentage  \\\n",
       "6        ZA, Durban, 2021W4, LA, -20% x 10 (10 ZAR) C                  20   \n",
       "10       ZA, Durban, 2021W4, LA, -40% x 10 (19 ZAR) D                  40   \n",
       "12       ZA, Durban, 2021W4, NA, -30% x 10 (15 ZAR) C                  30   \n",
       "24       ZA, Durban, 2021W4, NA, -50% x 10 (24 ZAR) D                  50   \n",
       "25  ZA, Durban, 2021W4, unlockable lock test, -10%...                  10   \n",
       "15  ZA, Durban, 2021W4, unlockable lock test, -10%...                  10   \n",
       "3   ZA, Durban, 2021W4, unlockable lock test, -10%...                  10   \n",
       "1   ZA, Durban, 2021W4, unlockable lock test, -20%...                  20   \n",
       "4   ZA, Durban, 2021W4, unlockable lock test, -20%...                  20   \n",
       "2   ZA, Durban, 2021W4, unlockable lock test, -20%...                  20   \n",
       "7   ZA, Durban, 2021W4, unlockable lock test, -30%...                  30   \n",
       "21  ZA, Durban, 2021W4, unlockable lock test, -30%...                  30   \n",
       "23  ZA, Durban, 2021W4, unlockable lock test, -30%...                  30   \n",
       "9   ZA, Durban, 2021W4, unlockable rfm test, -10% ...                  10   \n",
       "16  ZA, Durban, 2021W4, unlockable rfm test, -10% ...                  10   \n",
       "17  ZA, Durban, 2021W4, unlockable rfm test, -10% ...                  10   \n",
       "19  ZA, Durban, 2021W4, unlockable rfm test, -20% ...                  20   \n",
       "20  ZA, Durban, 2021W4, unlockable rfm test, -20% ...                  20   \n",
       "11  ZA, Durban, 2021W4, unlockable rfm test, -20% ...                  20   \n",
       "5   ZA, Durban, 2021W4, unlockable rfm test, -30% ...                  30   \n",
       "22  ZA, Durban, 2021W4, unlockable rfm test, -30% ...                  30   \n",
       "8   ZA, Durban, 2021W4, unlockable rfm test, -30% ...                  30   \n",
       "0                                                None                   ?   \n",
       "13                                               None                   ?   \n",
       "14                                               None                   ?   \n",
       "18                                               None                   ?   \n",
       "\n",
       "   campaign_max_value  enrollment_count  \n",
       "6                  10              4249  \n",
       "10                 19              4208  \n",
       "12                 15             32688  \n",
       "24                 24             33234  \n",
       "25                  5              4772  \n",
       "15                  5              2165  \n",
       "3                   5              4655  \n",
       "1                  10              2144  \n",
       "4                  10              4903  \n",
       "2                  10              4741  \n",
       "7                  15              2126  \n",
       "21                 15              4723  \n",
       "23                 15              4826  \n",
       "9                   5              4672  \n",
       "16                  5              4607  \n",
       "17                  5              2259  \n",
       "19                 10              2178  \n",
       "20                 10              4784  \n",
       "11                 10              4676  \n",
       "5                  15              2274  \n",
       "22                 15              4670  \n",
       "8                  15              4768  \n",
       "0                   ?             32677  \n",
       "13                  ?              4778  \n",
       "14                  ?              2157  \n",
       "18                  ?              4711  "
      ]
     },
     "execution_count": 60,
     "metadata": {},
     "output_type": "execute_result"
    }
   ],
   "source": [
    "info.sort_values('campaign_name')"
   ]
  },
  {
   "cell_type": "code",
   "execution_count": 23,
   "metadata": {},
   "outputs": [
    {
     "data": {
      "text/plain": [
       "bonus_type                 campaign_name                                                 treatment_id\n",
       "targeted_campaign          ZA, Durban, 2021W4, LA, -20% x 10 (10 ZAR) C                  34911            4249\n",
       "                           ZA, Durban, 2021W4, LA, -40% x 10 (19 ZAR) D                  34912            4208\n",
       "                           ZA, Durban, 2021W4, NA, -30% x 10 (15 ZAR) C                  34907           32688\n",
       "                           ZA, Durban, 2021W4, NA, -50% x 10 (24 ZAR) D                  34908           33234\n",
       "                           ZA, Durban, 2021W4, unlockable lock test, -10% x 10 (5 ZAR)   34727            2165\n",
       "                                                                                         34735            4772\n",
       "                                                                                         34743            4655\n",
       "                           ZA, Durban, 2021W4, unlockable lock test, -20% x 10 (10 ZAR)  34728            2144\n",
       "                                                                                         34736            4903\n",
       "                                                                                         34744            4741\n",
       "                           ZA, Durban, 2021W4, unlockable lock test, -30% x 10 (15 ZAR)  34729            2126\n",
       "                                                                                         34737            4826\n",
       "                                                                                         34745            4723\n",
       "                           ZA, Durban, 2021W4, unlockable rfm test, -10% x 10 (5 ZAR)    34730            2259\n",
       "                                                                                         34738            4672\n",
       "                                                                                         34746            4607\n",
       "                           ZA, Durban, 2021W4, unlockable rfm test, -20% x 10 (10 ZAR)   34731            2178\n",
       "                                                                                         34739            4784\n",
       "                                                                                         34747            4676\n",
       "                           ZA, Durban, 2021W4, unlockable rfm test, -30% x 10 (15 ZAR)   34732            2274\n",
       "                                                                                         34740            4768\n",
       "                                                                                         34748            4670\n",
       "targeted_control_campaign  na                                                            34733            2157\n",
       "                                                                                         34741            4778\n",
       "                                                                                         34749            4711\n",
       "                                                                                         34909           32677\n",
       "Name: enrollment_count, dtype: int64"
      ]
     },
     "execution_count": 23,
     "metadata": {},
     "output_type": "execute_result"
    }
   ],
   "source": [
    "info.fillna('na').groupby([\"bonus_type\",\"campaign_name\",\"treatment_id\"])[\"enrollment_count\"].sum()"
   ]
  },
  {
   "cell_type": "markdown",
   "metadata": {},
   "source": [
    "## Get users from unlockable campaigns \n",
    "### who finished 2 or more rides"
   ]
  },
  {
   "cell_type": "code",
   "execution_count": 61,
   "metadata": {},
   "outputs": [],
   "source": [
    "#1st week - 10%, 2nd week - 20%\n",
    "treatment_ids = [34727,34735,34743]      "
   ]
  },
  {
   "cell_type": "code",
   "execution_count": 62,
   "metadata": {
    "scrolled": true
   },
   "outputs": [
    {
     "name": "stdout",
     "output_type": "stream",
     "text": [
      "query started at: 05:14:24.809565\n",
      "query ended at: 05:14:27.713102\n"
     ]
    }
   ],
   "source": [
    "df = query(get_unlock_user_ids(treatment_ids))"
   ]
  },
  {
   "cell_type": "code",
   "execution_count": 63,
   "metadata": {},
   "outputs": [
    {
     "name": "stdout",
     "output_type": "stream",
     "text": [
      "11592\n",
      "1.0\n",
      "0.05684955141476881\n"
     ]
    },
    {
     "data": {
      "text/plain": [
       "user_id         659\n",
       "treatment_id    659\n",
       "rides_count     659\n",
       "dtype: int64"
      ]
     },
     "execution_count": 63,
     "metadata": {},
     "output_type": "execute_result"
    }
   ],
   "source": [
    "print(len(df))\n",
    "print(len(df)/(info[info[\"treatment_id\"].isin(treatment_ids)].enrollment_count.sum()))\n",
    "print(len(df[df[\"rides_count\"]>1])/(info[info[\"treatment_id\"].isin(treatment_ids)].enrollment_count.sum()))\n",
    "a = df.groupby(\"rides_count\")[\"user_id\"].count()\n",
    "a\n",
    "df[df['rides_count']>1].count()"
   ]
  },
  {
   "cell_type": "code",
   "execution_count": 57,
   "metadata": {},
   "outputs": [],
   "source": [
    "#save only user_ids to csv \n",
    "df[df[\"rides_count\"]>1].user_id.to_csv('unlockable_20.csv', index = False, header = False)"
   ]
  },
  {
   "cell_type": "code",
   "execution_count": 64,
   "metadata": {},
   "outputs": [],
   "source": [
    "#save string file \n",
    "\n",
    "string = list_to_string(df[df[\"rides_count\"]>1].user_id)\n",
    "print(string,  file=open('unlockable_20.txt', 'w'))"
   ]
  },
  {
   "cell_type": "code",
   "execution_count": 72,
   "metadata": {},
   "outputs": [],
   "source": [
    "#1st week - 20%, 2nd week - 30%\n",
    "treatment_ids = [34728,34736,34744]"
   ]
  },
  {
   "cell_type": "code",
   "execution_count": 73,
   "metadata": {},
   "outputs": [
    {
     "name": "stdout",
     "output_type": "stream",
     "text": [
      "query started at: 05:17:23.335103\n",
      "query ended at: 05:17:31.530586\n"
     ]
    },
    {
     "data": {
      "text/html": [
       "<div>\n",
       "<style scoped>\n",
       "    .dataframe tbody tr th:only-of-type {\n",
       "        vertical-align: middle;\n",
       "    }\n",
       "\n",
       "    .dataframe tbody tr th {\n",
       "        vertical-align: top;\n",
       "    }\n",
       "\n",
       "    .dataframe thead th {\n",
       "        text-align: right;\n",
       "    }\n",
       "</style>\n",
       "<table border=\"1\" class=\"dataframe\">\n",
       "  <thead>\n",
       "    <tr style=\"text-align: right;\">\n",
       "      <th></th>\n",
       "      <th>user_id</th>\n",
       "      <th>treatment_id</th>\n",
       "      <th>rides_count</th>\n",
       "    </tr>\n",
       "  </thead>\n",
       "  <tbody>\n",
       "    <tr>\n",
       "      <th>0</th>\n",
       "      <td>47709268</td>\n",
       "      <td>34728</td>\n",
       "      <td>2</td>\n",
       "    </tr>\n",
       "    <tr>\n",
       "      <th>1</th>\n",
       "      <td>29709253</td>\n",
       "      <td>34736</td>\n",
       "      <td>0</td>\n",
       "    </tr>\n",
       "    <tr>\n",
       "      <th>2</th>\n",
       "      <td>48978623</td>\n",
       "      <td>34736</td>\n",
       "      <td>0</td>\n",
       "    </tr>\n",
       "    <tr>\n",
       "      <th>3</th>\n",
       "      <td>26278412</td>\n",
       "      <td>34744</td>\n",
       "      <td>0</td>\n",
       "    </tr>\n",
       "    <tr>\n",
       "      <th>4</th>\n",
       "      <td>7047408</td>\n",
       "      <td>34736</td>\n",
       "      <td>0</td>\n",
       "    </tr>\n",
       "  </tbody>\n",
       "</table>\n",
       "</div>"
      ],
      "text/plain": [
       "    user_id  treatment_id  rides_count\n",
       "0  47709268         34728            2\n",
       "1  29709253         34736            0\n",
       "2  48978623         34736            0\n",
       "3  26278412         34744            0\n",
       "4   7047408         34736            0"
      ]
     },
     "execution_count": 73,
     "metadata": {},
     "output_type": "execute_result"
    }
   ],
   "source": [
    "df = query(get_unlock_user_ids(treatment_ids))\n",
    "df.head()"
   ]
  },
  {
   "cell_type": "code",
   "execution_count": 74,
   "metadata": {},
   "outputs": [
    {
     "name": "stdout",
     "output_type": "stream",
     "text": [
      "11788\n",
      "1.0\n",
      "0.07244655581947744\n"
     ]
    },
    {
     "data": {
      "text/plain": [
       "user_id         854\n",
       "treatment_id    854\n",
       "rides_count     854\n",
       "dtype: int64"
      ]
     },
     "execution_count": 74,
     "metadata": {},
     "output_type": "execute_result"
    }
   ],
   "source": [
    "print(len(df))\n",
    "print(len(df)/(info[info[\"treatment_id\"].isin(treatment_ids)].enrollment_count.sum()))\n",
    "print(len(df[df[\"rides_count\"]>1])/(info[info[\"treatment_id\"].isin(treatment_ids)].enrollment_count.sum()))\n",
    "a = df.groupby(\"rides_count\")[\"user_id\"].count()\n",
    "a\n",
    "df[df['rides_count']>1].count()"
   ]
  },
  {
   "cell_type": "code",
   "execution_count": 28,
   "metadata": {},
   "outputs": [],
   "source": [
    "#save only user_ids to csv \n",
    "df[df[\"rides_count\"]>1].user_id.to_csv('unlockable_30.txt', index = False, header = False)"
   ]
  },
  {
   "cell_type": "code",
   "execution_count": 75,
   "metadata": {},
   "outputs": [],
   "source": [
    "#save string file \n",
    "\n",
    "string = list_to_string(df[df[\"rides_count\"]>1].user_id)\n",
    "print(string,  file=open('unlockable_30.txt', 'w'))"
   ]
  },
  {
   "cell_type": "code",
   "execution_count": 68,
   "metadata": {},
   "outputs": [],
   "source": [
    "#1st week - 30%, 2nd week - 40%\n",
    "treatment_ids = [34729,34737,34745]"
   ]
  },
  {
   "cell_type": "code",
   "execution_count": 69,
   "metadata": {},
   "outputs": [
    {
     "name": "stdout",
     "output_type": "stream",
     "text": [
      "query started at: 05:16:16.809807\n",
      "query ended at: 05:16:42.521362\n"
     ]
    },
    {
     "data": {
      "text/html": [
       "<div>\n",
       "<style scoped>\n",
       "    .dataframe tbody tr th:only-of-type {\n",
       "        vertical-align: middle;\n",
       "    }\n",
       "\n",
       "    .dataframe tbody tr th {\n",
       "        vertical-align: top;\n",
       "    }\n",
       "\n",
       "    .dataframe thead th {\n",
       "        text-align: right;\n",
       "    }\n",
       "</style>\n",
       "<table border=\"1\" class=\"dataframe\">\n",
       "  <thead>\n",
       "    <tr style=\"text-align: right;\">\n",
       "      <th></th>\n",
       "      <th>user_id</th>\n",
       "      <th>treatment_id</th>\n",
       "      <th>rides_count</th>\n",
       "    </tr>\n",
       "  </thead>\n",
       "  <tbody>\n",
       "    <tr>\n",
       "      <th>0</th>\n",
       "      <td>58193763</td>\n",
       "      <td>34737</td>\n",
       "      <td>3</td>\n",
       "    </tr>\n",
       "    <tr>\n",
       "      <th>1</th>\n",
       "      <td>47246972</td>\n",
       "      <td>34745</td>\n",
       "      <td>0</td>\n",
       "    </tr>\n",
       "    <tr>\n",
       "      <th>2</th>\n",
       "      <td>46298885</td>\n",
       "      <td>34737</td>\n",
       "      <td>0</td>\n",
       "    </tr>\n",
       "    <tr>\n",
       "      <th>3</th>\n",
       "      <td>42282560</td>\n",
       "      <td>34745</td>\n",
       "      <td>0</td>\n",
       "    </tr>\n",
       "    <tr>\n",
       "      <th>4</th>\n",
       "      <td>52607028</td>\n",
       "      <td>34745</td>\n",
       "      <td>0</td>\n",
       "    </tr>\n",
       "  </tbody>\n",
       "</table>\n",
       "</div>"
      ],
      "text/plain": [
       "    user_id  treatment_id  rides_count\n",
       "0  58193763         34737            3\n",
       "1  47246972         34745            0\n",
       "2  46298885         34737            0\n",
       "3  42282560         34745            0\n",
       "4  52607028         34745            0"
      ]
     },
     "execution_count": 69,
     "metadata": {},
     "output_type": "execute_result"
    }
   ],
   "source": [
    "df = query(get_unlock_user_ids(treatment_ids))\n",
    "df.head()"
   ]
  },
  {
   "cell_type": "code",
   "execution_count": 70,
   "metadata": {},
   "outputs": [
    {
     "name": "stdout",
     "output_type": "stream",
     "text": [
      "11675\n",
      "1.0\n",
      "0.07888650963597431\n"
     ]
    },
    {
     "data": {
      "text/plain": [
       "user_id         921\n",
       "treatment_id    921\n",
       "rides_count     921\n",
       "dtype: int64"
      ]
     },
     "execution_count": 70,
     "metadata": {},
     "output_type": "execute_result"
    }
   ],
   "source": [
    "print(len(df))\n",
    "print(len(df)/(info[info[\"treatment_id\"].isin(treatment_ids)].enrollment_count.sum()))\n",
    "print(len(df[df[\"rides_count\"]>1])/(info[info[\"treatment_id\"].isin(treatment_ids)].enrollment_count.sum()))\n",
    "a = df.groupby(\"rides_count\")[\"user_id\"].count()\n",
    "a\n",
    "df[df['rides_count']>1].count()"
   ]
  },
  {
   "cell_type": "code",
   "execution_count": 32,
   "metadata": {},
   "outputs": [],
   "source": [
    "#save only user_ids to csv \n",
    "df[df[\"rides_count\"]>1].user_id.to_csv('unlockable_40.txt', index = False, header = False)"
   ]
  },
  {
   "cell_type": "code",
   "execution_count": 71,
   "metadata": {},
   "outputs": [],
   "source": [
    "#save string file \n",
    "\n",
    "string = list_to_string(df[df[\"rides_count\"]>1].user_id)\n",
    "print(string,  file=open('unlockable_40.txt', 'w'))"
   ]
  },
  {
   "cell_type": "markdown",
   "metadata": {},
   "source": [
    "## Get users from RFM campaigns"
   ]
  },
  {
   "cell_type": "code",
   "execution_count": 27,
   "metadata": {},
   "outputs": [],
   "source": [
    "#1st week - 10%, 2nd week - 10%\n",
    "treatment_ids = [34730,34738,34746]"
   ]
  },
  {
   "cell_type": "code",
   "execution_count": 28,
   "metadata": {},
   "outputs": [
    {
     "name": "stdout",
     "output_type": "stream",
     "text": [
      "query started at: 20:35:24.344275\n",
      "query ended at: 20:35:39.092413\n"
     ]
    }
   ],
   "source": [
    "df = query(get_unlock_user_ids(treatment_ids))\n",
    "#print(len(df))\n",
    "#df.head()"
   ]
  },
  {
   "cell_type": "code",
   "execution_count": 29,
   "metadata": {},
   "outputs": [
    {
     "name": "stdout",
     "output_type": "stream",
     "text": [
      "11538\n",
      "1.0\n",
      "0.056335586756803606\n"
     ]
    },
    {
     "data": {
      "text/plain": [
       "11538"
      ]
     },
     "execution_count": 29,
     "metadata": {},
     "output_type": "execute_result"
    }
   ],
   "source": [
    "print(len(df))\n",
    "print(len(df)/(info[info[\"treatment_id\"].isin(treatment_ids)].enrollment_count.sum()))\n",
    "print(len(df[df[\"rides_count\"]>1])/(info[info[\"treatment_id\"].isin(treatment_ids)].enrollment_count.sum()))\n",
    "a = df.groupby(\"rides_count\")[\"user_id\"].count()\n",
    "a\n",
    "df['rides_count'].count()"
   ]
  },
  {
   "cell_type": "code",
   "execution_count": 36,
   "metadata": {},
   "outputs": [],
   "source": [
    "df.user_id.to_csv('rfm_unlock_20.txt', index = False, header = False)"
   ]
  },
  {
   "cell_type": "code",
   "execution_count": 30,
   "metadata": {},
   "outputs": [],
   "source": [
    "#save string file \n",
    "\n",
    "string = list_to_string(df.user_id)\n",
    "print(string,  file=open('rfm_unlock_20.txt', 'w'))"
   ]
  },
  {
   "cell_type": "code",
   "execution_count": 31,
   "metadata": {},
   "outputs": [],
   "source": [
    "#1st week - 20%, 2nd week - 20%\n",
    "treatment_ids = [37431, 34739, 34747]"
   ]
  },
  {
   "cell_type": "code",
   "execution_count": 32,
   "metadata": {},
   "outputs": [
    {
     "name": "stdout",
     "output_type": "stream",
     "text": [
      "query started at: 20:41:32.294638\n",
      "query ended at: 20:41:35.257841\n"
     ]
    }
   ],
   "source": [
    "df = query(get_unlock_user_ids(treatment_ids))\n",
    "#print(len(df))\n",
    "#df.head()"
   ]
  },
  {
   "cell_type": "code",
   "execution_count": 33,
   "metadata": {},
   "outputs": [
    {
     "name": "stdout",
     "output_type": "stream",
     "text": [
      "9460\n",
      "1.0\n",
      "0.06775898520084567\n"
     ]
    },
    {
     "data": {
      "text/plain": [
       "9460"
      ]
     },
     "execution_count": 33,
     "metadata": {},
     "output_type": "execute_result"
    }
   ],
   "source": [
    "print(len(df))\n",
    "print(len(df)/(info[info[\"treatment_id\"].isin(treatment_ids)].enrollment_count.sum()))\n",
    "print(len(df[df[\"rides_count\"]>1])/(info[info[\"treatment_id\"].isin(treatment_ids)].enrollment_count.sum()))\n",
    "a = df.groupby(\"rides_count\")[\"user_id\"].count()\n",
    "a\n",
    "df.user_id.count()"
   ]
  },
  {
   "cell_type": "code",
   "execution_count": 40,
   "metadata": {},
   "outputs": [],
   "source": [
    "df.user_id.to_csv('rfm_unlock_30.txt', index = False, header = False)"
   ]
  },
  {
   "cell_type": "code",
   "execution_count": 35,
   "metadata": {},
   "outputs": [],
   "source": [
    "#save string file \n",
    "\n",
    "string = list_to_string(df.user_id)\n",
    "print(string,  file=open('rfm_unlock_30.txt', 'w'))"
   ]
  },
  {
   "cell_type": "code",
   "execution_count": 36,
   "metadata": {},
   "outputs": [],
   "source": [
    "#1st week - 30%, 2nd week - 30%\n",
    "treatment_ids = [34732, 34740, 34748]"
   ]
  },
  {
   "cell_type": "code",
   "execution_count": 37,
   "metadata": {},
   "outputs": [
    {
     "name": "stdout",
     "output_type": "stream",
     "text": [
      "query started at: 20:42:35.992589\n",
      "query ended at: 20:42:38.241930\n"
     ]
    }
   ],
   "source": [
    "df = query(get_unlock_user_ids(treatment_ids))\n",
    "#print(len(df))\n",
    "#df.head()"
   ]
  },
  {
   "cell_type": "code",
   "execution_count": 38,
   "metadata": {},
   "outputs": [
    {
     "name": "stdout",
     "output_type": "stream",
     "text": [
      "11712\n",
      "1.0\n",
      "0.0706967213114754\n"
     ]
    },
    {
     "data": {
      "text/plain": [
       "11712"
      ]
     },
     "execution_count": 38,
     "metadata": {},
     "output_type": "execute_result"
    }
   ],
   "source": [
    "print(len(df))\n",
    "print(len(df)/(info[info[\"treatment_id\"].isin(treatment_ids)].enrollment_count.sum()))\n",
    "print(len(df[df[\"rides_count\"]>1])/(info[info[\"treatment_id\"].isin(treatment_ids)].enrollment_count.sum()))\n",
    "a = df.groupby(\"rides_count\")[\"user_id\"].count()\n",
    "a\n",
    "df['rides_count'].count()"
   ]
  },
  {
   "cell_type": "code",
   "execution_count": 44,
   "metadata": {},
   "outputs": [],
   "source": [
    "df.user_id.to_csv('rfm_unlock_40.txt', index = False, header = False)"
   ]
  },
  {
   "cell_type": "code",
   "execution_count": 39,
   "metadata": {},
   "outputs": [],
   "source": [
    "#save string file \n",
    "\n",
    "string = list_to_string(df.user_id)\n",
    "print(string,  file=open('rfm_unlock_40.txt', 'w'))"
   ]
  },
  {
   "cell_type": "markdown",
   "metadata": {},
   "source": [
    "# Overview"
   ]
  },
  {
   "cell_type": "code",
   "execution_count": 49,
   "metadata": {},
   "outputs": [],
   "source": [
    "treatment_ids = info.treatment_id.unique()\n"
   ]
  },
  {
   "cell_type": "code",
   "execution_count": 50,
   "metadata": {},
   "outputs": [
    {
     "name": "stdout",
     "output_type": "stream",
     "text": [
      "query started at: 20:44:13.441531\n",
      "query ended at: 20:44:30.189197\n"
     ]
    }
   ],
   "source": [
    "df = query(get_unlock_user_ids(treatment_ids))\n",
    "#print(len(df))"
   ]
  },
  {
   "cell_type": "code",
   "execution_count": 51,
   "metadata": {},
   "outputs": [
    {
     "data": {
      "text/html": [
       "<div>\n",
       "<style scoped>\n",
       "    .dataframe tbody tr th:only-of-type {\n",
       "        vertical-align: middle;\n",
       "    }\n",
       "\n",
       "    .dataframe tbody tr th {\n",
       "        vertical-align: top;\n",
       "    }\n",
       "\n",
       "    .dataframe thead th {\n",
       "        text-align: right;\n",
       "    }\n",
       "</style>\n",
       "<table border=\"1\" class=\"dataframe\">\n",
       "  <thead>\n",
       "    <tr style=\"text-align: right;\">\n",
       "      <th></th>\n",
       "      <th>test_name</th>\n",
       "      <th>treatment_id</th>\n",
       "      <th>bonus_type</th>\n",
       "      <th>targeted_campaign_id</th>\n",
       "      <th>campaign_name</th>\n",
       "      <th>campaign_percentage</th>\n",
       "      <th>campaign_max_value</th>\n",
       "      <th>enrollment_count</th>\n",
       "    </tr>\n",
       "  </thead>\n",
       "  <tbody>\n",
       "    <tr>\n",
       "      <th>0</th>\n",
       "      <td>ZA, Durban, 2021W4, Not active</td>\n",
       "      <td>34909</td>\n",
       "      <td>targeted_control_campaign</td>\n",
       "      <td>NaN</td>\n",
       "      <td>None</td>\n",
       "      <td>?</td>\n",
       "      <td>?</td>\n",
       "      <td>32677</td>\n",
       "    </tr>\n",
       "    <tr>\n",
       "      <th>1</th>\n",
       "      <td>ZA, Durban, 2021W4, unlockable lock test, MA</td>\n",
       "      <td>34728</td>\n",
       "      <td>targeted_campaign</td>\n",
       "      <td>22905.0</td>\n",
       "      <td>ZA, Durban, 2021W4, unlockable lock test, -20%...</td>\n",
       "      <td>20</td>\n",
       "      <td>10</td>\n",
       "      <td>2144</td>\n",
       "    </tr>\n",
       "    <tr>\n",
       "      <th>2</th>\n",
       "      <td>ZA, Durban, 2021W4, unlockable lock test, HF</td>\n",
       "      <td>34744</td>\n",
       "      <td>targeted_campaign</td>\n",
       "      <td>22905.0</td>\n",
       "      <td>ZA, Durban, 2021W4, unlockable lock test, -20%...</td>\n",
       "      <td>20</td>\n",
       "      <td>10</td>\n",
       "      <td>4741</td>\n",
       "    </tr>\n",
       "    <tr>\n",
       "      <th>3</th>\n",
       "      <td>ZA, Durban, 2021W4, unlockable lock test, HF</td>\n",
       "      <td>34743</td>\n",
       "      <td>targeted_campaign</td>\n",
       "      <td>22904.0</td>\n",
       "      <td>ZA, Durban, 2021W4, unlockable lock test, -10%...</td>\n",
       "      <td>10</td>\n",
       "      <td>5</td>\n",
       "      <td>4655</td>\n",
       "    </tr>\n",
       "    <tr>\n",
       "      <th>4</th>\n",
       "      <td>ZA, Durban, 2021W4, unlockable lock test, HR</td>\n",
       "      <td>34736</td>\n",
       "      <td>targeted_campaign</td>\n",
       "      <td>22905.0</td>\n",
       "      <td>ZA, Durban, 2021W4, unlockable lock test, -20%...</td>\n",
       "      <td>20</td>\n",
       "      <td>10</td>\n",
       "      <td>4903</td>\n",
       "    </tr>\n",
       "  </tbody>\n",
       "</table>\n",
       "</div>"
      ],
      "text/plain": [
       "                                      test_name  treatment_id  \\\n",
       "0                ZA, Durban, 2021W4, Not active         34909   \n",
       "1  ZA, Durban, 2021W4, unlockable lock test, MA         34728   \n",
       "2  ZA, Durban, 2021W4, unlockable lock test, HF         34744   \n",
       "3  ZA, Durban, 2021W4, unlockable lock test, HF         34743   \n",
       "4  ZA, Durban, 2021W4, unlockable lock test, HR         34736   \n",
       "\n",
       "                  bonus_type  targeted_campaign_id  \\\n",
       "0  targeted_control_campaign                   NaN   \n",
       "1          targeted_campaign               22905.0   \n",
       "2          targeted_campaign               22905.0   \n",
       "3          targeted_campaign               22904.0   \n",
       "4          targeted_campaign               22905.0   \n",
       "\n",
       "                                       campaign_name campaign_percentage  \\\n",
       "0                                               None                   ?   \n",
       "1  ZA, Durban, 2021W4, unlockable lock test, -20%...                  20   \n",
       "2  ZA, Durban, 2021W4, unlockable lock test, -20%...                  20   \n",
       "3  ZA, Durban, 2021W4, unlockable lock test, -10%...                  10   \n",
       "4  ZA, Durban, 2021W4, unlockable lock test, -20%...                  20   \n",
       "\n",
       "  campaign_max_value  enrollment_count  \n",
       "0                  ?             32677  \n",
       "1                 10              2144  \n",
       "2                 10              4741  \n",
       "3                  5              4655  \n",
       "4                 10              4903  "
      ]
     },
     "execution_count": 51,
     "metadata": {},
     "output_type": "execute_result"
    }
   ],
   "source": [
    "info.head()"
   ]
  },
  {
   "cell_type": "code",
   "execution_count": 52,
   "metadata": {},
   "outputs": [],
   "source": [
    "df = df.merge(info[[\"treatment_id\",\"campaign_name\"]], on = \"treatment_id\", how = \"left\" )"
   ]
  },
  {
   "cell_type": "code",
   "execution_count": 53,
   "metadata": {},
   "outputs": [
    {
     "name": "stdout",
     "output_type": "stream",
     "text": [
      "188645\n",
      "1.0\n",
      "0.029457446526544567\n"
     ]
    },
    {
     "data": {
      "text/plain": [
       "rides_count\n",
       "0     174903\n",
       "1       8185\n",
       "2       3237\n",
       "3       1166\n",
       "4        556\n",
       "5        274\n",
       "6        127\n",
       "7         75\n",
       "8         51\n",
       "9         26\n",
       "10        23\n",
       "11         9\n",
       "12         5\n",
       "13         5\n",
       "14         2\n",
       "15         1\n",
       "Name: user_id, dtype: int64"
      ]
     },
     "execution_count": 53,
     "metadata": {},
     "output_type": "execute_result"
    }
   ],
   "source": [
    "print(len(df))\n",
    "print(len(df)/(info[info[\"treatment_id\"].isin(treatment_ids)].enrollment_count.sum()))\n",
    "print(len(df[df[\"rides_count\"]>1])/(info[info[\"treatment_id\"].isin(treatment_ids)].enrollment_count.sum()))\n",
    "a = df.groupby(\"rides_count\")[\"user_id\"].count()\n",
    "a"
   ]
  },
  {
   "cell_type": "code",
   "execution_count": 54,
   "metadata": {},
   "outputs": [],
   "source": [
    "df[\"had_1+ride\"]=np.where(df.rides_count>0,1,0)\n",
    "df[\"had_2+ride\"]=np.where(df.rides_count>1,1,0)"
   ]
  },
  {
   "cell_type": "code",
   "execution_count": null,
   "metadata": {},
   "outputs": [],
   "source": [
    "from IPython.display import HTML\n",
    "\n",
    "HTML('''<script>\n",
    "code_show=true; \n",
    "function code_toggle() {\n",
    "    if (code_show){\n",
    "        $('div.input').hide();\n",
    "    } else {\n",
    "        $('div.input').show();\n",
    "    }\n",
    "    code_show = !code_show\n",
    "} \n",
    "$( document ).ready(code_toggle);\n",
    "</script>\n",
    "<form action=\"javascript:code_toggle()\"><input type=\"submit\" value=\"Toggle code view\"></form>''')\n"
   ]
  },
  {
   "cell_type": "code",
   "execution_count": 55,
   "metadata": {},
   "outputs": [
    {
     "data": {
      "text/html": [
       "<div>\n",
       "<style scoped>\n",
       "    .dataframe tbody tr th:only-of-type {\n",
       "        vertical-align: middle;\n",
       "    }\n",
       "\n",
       "    .dataframe tbody tr th {\n",
       "        vertical-align: top;\n",
       "    }\n",
       "\n",
       "    .dataframe thead th {\n",
       "        text-align: right;\n",
       "    }\n",
       "</style>\n",
       "<table border=\"1\" class=\"dataframe\">\n",
       "  <thead>\n",
       "    <tr style=\"text-align: right;\">\n",
       "      <th>had_1+ride</th>\n",
       "      <th>0</th>\n",
       "      <th>1</th>\n",
       "      <th>1+_share</th>\n",
       "    </tr>\n",
       "    <tr>\n",
       "      <th>campaign_name</th>\n",
       "      <th></th>\n",
       "      <th></th>\n",
       "      <th></th>\n",
       "    </tr>\n",
       "  </thead>\n",
       "  <tbody>\n",
       "    <tr>\n",
       "      <th>ZA, Durban, 2021W4, LA, -20% x 10 (10 ZAR) C</th>\n",
       "      <td>4071</td>\n",
       "      <td>178</td>\n",
       "      <td>0.041892</td>\n",
       "    </tr>\n",
       "    <tr>\n",
       "      <th>ZA, Durban, 2021W4, LA, -40% x 10 (19 ZAR) D</th>\n",
       "      <td>4024</td>\n",
       "      <td>184</td>\n",
       "      <td>0.043726</td>\n",
       "    </tr>\n",
       "    <tr>\n",
       "      <th>ZA, Durban, 2021W4, NA, -30% x 10 (15 ZAR) C</th>\n",
       "      <td>32486</td>\n",
       "      <td>202</td>\n",
       "      <td>0.006180</td>\n",
       "    </tr>\n",
       "    <tr>\n",
       "      <th>ZA, Durban, 2021W4, NA, -50% x 10 (24 ZAR) D</th>\n",
       "      <td>33003</td>\n",
       "      <td>231</td>\n",
       "      <td>0.006951</td>\n",
       "    </tr>\n",
       "    <tr>\n",
       "      <th>ZA, Durban, 2021W4, unlockable lock test, -10% x 10 (5 ZAR)</th>\n",
       "      <td>9857</td>\n",
       "      <td>1735</td>\n",
       "      <td>0.149672</td>\n",
       "    </tr>\n",
       "    <tr>\n",
       "      <th>ZA, Durban, 2021W4, unlockable lock test, -20% x 10 (10 ZAR)</th>\n",
       "      <td>9859</td>\n",
       "      <td>1929</td>\n",
       "      <td>0.163641</td>\n",
       "    </tr>\n",
       "    <tr>\n",
       "      <th>ZA, Durban, 2021W4, unlockable lock test, -30% x 10 (15 ZAR)</th>\n",
       "      <td>9662</td>\n",
       "      <td>2013</td>\n",
       "      <td>0.172420</td>\n",
       "    </tr>\n",
       "    <tr>\n",
       "      <th>ZA, Durban, 2021W4, unlockable rfm test, -10% x 10 (5 ZAR)</th>\n",
       "      <td>9814</td>\n",
       "      <td>1724</td>\n",
       "      <td>0.149419</td>\n",
       "    </tr>\n",
       "    <tr>\n",
       "      <th>ZA, Durban, 2021W4, unlockable rfm test, -20% x 10 (10 ZAR)</th>\n",
       "      <td>9769</td>\n",
       "      <td>1869</td>\n",
       "      <td>0.160595</td>\n",
       "    </tr>\n",
       "    <tr>\n",
       "      <th>ZA, Durban, 2021W4, unlockable rfm test, -30% x 10 (15 ZAR)</th>\n",
       "      <td>9830</td>\n",
       "      <td>1882</td>\n",
       "      <td>0.160690</td>\n",
       "    </tr>\n",
       "  </tbody>\n",
       "</table>\n",
       "</div>"
      ],
      "text/plain": [
       "had_1+ride                                              0     1  1+_share\n",
       "campaign_name                                                            \n",
       "ZA, Durban, 2021W4, LA, -20% x 10 (10 ZAR) C         4071   178  0.041892\n",
       "ZA, Durban, 2021W4, LA, -40% x 10 (19 ZAR) D         4024   184  0.043726\n",
       "ZA, Durban, 2021W4, NA, -30% x 10 (15 ZAR) C        32486   202  0.006180\n",
       "ZA, Durban, 2021W4, NA, -50% x 10 (24 ZAR) D        33003   231  0.006951\n",
       "ZA, Durban, 2021W4, unlockable lock test, -10% ...   9857  1735  0.149672\n",
       "ZA, Durban, 2021W4, unlockable lock test, -20% ...   9859  1929  0.163641\n",
       "ZA, Durban, 2021W4, unlockable lock test, -30% ...   9662  2013  0.172420\n",
       "ZA, Durban, 2021W4, unlockable rfm test, -10% x...   9814  1724  0.149419\n",
       "ZA, Durban, 2021W4, unlockable rfm test, -20% x...   9769  1869  0.160595\n",
       "ZA, Durban, 2021W4, unlockable rfm test, -30% x...   9830  1882  0.160690"
      ]
     },
     "execution_count": 55,
     "metadata": {},
     "output_type": "execute_result"
    }
   ],
   "source": [
    "a = pd.pivot_table(df,index = \"campaign_name\", columns = \"had_1+ride\", values = \"user_id\", aggfunc = \"count\")#.reset_index()\n",
    "a[\"1+_share\"] = a[1]/(a[0]+a[1])\n",
    "a"
   ]
  },
  {
   "cell_type": "code",
   "execution_count": 56,
   "metadata": {},
   "outputs": [
    {
     "data": {
      "text/html": [
       "<div>\n",
       "<style scoped>\n",
       "    .dataframe tbody tr th:only-of-type {\n",
       "        vertical-align: middle;\n",
       "    }\n",
       "\n",
       "    .dataframe tbody tr th {\n",
       "        vertical-align: top;\n",
       "    }\n",
       "\n",
       "    .dataframe thead th {\n",
       "        text-align: right;\n",
       "    }\n",
       "</style>\n",
       "<table border=\"1\" class=\"dataframe\">\n",
       "  <thead>\n",
       "    <tr style=\"text-align: right;\">\n",
       "      <th>had_2+ride</th>\n",
       "      <th>0</th>\n",
       "      <th>1</th>\n",
       "      <th>2+_share</th>\n",
       "    </tr>\n",
       "    <tr>\n",
       "      <th>campaign_name</th>\n",
       "      <th></th>\n",
       "      <th></th>\n",
       "      <th></th>\n",
       "    </tr>\n",
       "  </thead>\n",
       "  <tbody>\n",
       "    <tr>\n",
       "      <th>ZA, Durban, 2021W4, LA, -20% x 10 (10 ZAR) C</th>\n",
       "      <td>4193</td>\n",
       "      <td>56</td>\n",
       "      <td>0.013180</td>\n",
       "    </tr>\n",
       "    <tr>\n",
       "      <th>ZA, Durban, 2021W4, LA, -40% x 10 (19 ZAR) D</th>\n",
       "      <td>4150</td>\n",
       "      <td>58</td>\n",
       "      <td>0.013783</td>\n",
       "    </tr>\n",
       "    <tr>\n",
       "      <th>ZA, Durban, 2021W4, NA, -30% x 10 (15 ZAR) C</th>\n",
       "      <td>32616</td>\n",
       "      <td>72</td>\n",
       "      <td>0.002203</td>\n",
       "    </tr>\n",
       "    <tr>\n",
       "      <th>ZA, Durban, 2021W4, NA, -50% x 10 (24 ZAR) D</th>\n",
       "      <td>33161</td>\n",
       "      <td>73</td>\n",
       "      <td>0.002197</td>\n",
       "    </tr>\n",
       "    <tr>\n",
       "      <th>ZA, Durban, 2021W4, unlockable lock test, -10% x 10 (5 ZAR)</th>\n",
       "      <td>10941</td>\n",
       "      <td>651</td>\n",
       "      <td>0.056159</td>\n",
       "    </tr>\n",
       "    <tr>\n",
       "      <th>ZA, Durban, 2021W4, unlockable lock test, -20% x 10 (10 ZAR)</th>\n",
       "      <td>10941</td>\n",
       "      <td>847</td>\n",
       "      <td>0.071853</td>\n",
       "    </tr>\n",
       "    <tr>\n",
       "      <th>ZA, Durban, 2021W4, unlockable lock test, -30% x 10 (15 ZAR)</th>\n",
       "      <td>10766</td>\n",
       "      <td>909</td>\n",
       "      <td>0.077859</td>\n",
       "    </tr>\n",
       "    <tr>\n",
       "      <th>ZA, Durban, 2021W4, unlockable rfm test, -10% x 10 (5 ZAR)</th>\n",
       "      <td>10888</td>\n",
       "      <td>650</td>\n",
       "      <td>0.056336</td>\n",
       "    </tr>\n",
       "    <tr>\n",
       "      <th>ZA, Durban, 2021W4, unlockable rfm test, -20% x 10 (10 ZAR)</th>\n",
       "      <td>10882</td>\n",
       "      <td>756</td>\n",
       "      <td>0.064960</td>\n",
       "    </tr>\n",
       "    <tr>\n",
       "      <th>ZA, Durban, 2021W4, unlockable rfm test, -30% x 10 (15 ZAR)</th>\n",
       "      <td>10884</td>\n",
       "      <td>828</td>\n",
       "      <td>0.070697</td>\n",
       "    </tr>\n",
       "  </tbody>\n",
       "</table>\n",
       "</div>"
      ],
      "text/plain": [
       "had_2+ride                                              0    1  2+_share\n",
       "campaign_name                                                           \n",
       "ZA, Durban, 2021W4, LA, -20% x 10 (10 ZAR) C         4193   56  0.013180\n",
       "ZA, Durban, 2021W4, LA, -40% x 10 (19 ZAR) D         4150   58  0.013783\n",
       "ZA, Durban, 2021W4, NA, -30% x 10 (15 ZAR) C        32616   72  0.002203\n",
       "ZA, Durban, 2021W4, NA, -50% x 10 (24 ZAR) D        33161   73  0.002197\n",
       "ZA, Durban, 2021W4, unlockable lock test, -10% ...  10941  651  0.056159\n",
       "ZA, Durban, 2021W4, unlockable lock test, -20% ...  10941  847  0.071853\n",
       "ZA, Durban, 2021W4, unlockable lock test, -30% ...  10766  909  0.077859\n",
       "ZA, Durban, 2021W4, unlockable rfm test, -10% x...  10888  650  0.056336\n",
       "ZA, Durban, 2021W4, unlockable rfm test, -20% x...  10882  756  0.064960\n",
       "ZA, Durban, 2021W4, unlockable rfm test, -30% x...  10884  828  0.070697"
      ]
     },
     "execution_count": 56,
     "metadata": {},
     "output_type": "execute_result"
    }
   ],
   "source": [
    "a = pd.pivot_table(df,index = \"campaign_name\", columns = \"had_2+ride\", values = \"user_id\", aggfunc = \"count\")#.reset_index()\n",
    "a[\"2+_share\"] = a[1]/(a[0]+a[1])\n",
    "a"
   ]
  },
  {
   "cell_type": "code",
   "execution_count": 16,
   "metadata": {},
   "outputs": [],
   "source": [
    "import pandas as pd \n",
    "need = pd.read_csv('cpt_prem.csv')\n",
    "string = list_to_string(need.user_id)\n",
    "print(string,  file=open('cpt_prem.txt', 'w'))"
   ]
  },
  {
   "cell_type": "code",
   "execution_count": 11,
   "metadata": {},
   "outputs": [],
   "source": [
    "from sklearn.model_selection import train_test_split\n",
    "import numpy\n",
    "\n",
    "# with open(\"datafile.txt\", \"rb\") as f:\n",
    "#    data = f.read().split('\\n')\n",
    "#    data = numpy.array(data)  #convert array to numpy type array\n",
    "\n",
    "data = [1,3,4,5,6345,54,645,77,65,79,83,995]\n",
    "x_train ,x_test = train_test_split(data,test_size=0.5)"
   ]
  },
  {
   "cell_type": "code",
   "execution_count": 12,
   "metadata": {},
   "outputs": [
    {
     "data": {
      "text/plain": [
       "[995, 1, 4, 3, 54, 65]"
      ]
     },
     "execution_count": 12,
     "metadata": {},
     "output_type": "execute_result"
    }
   ],
   "source": [
    "x_train"
   ]
  },
  {
   "cell_type": "code",
   "execution_count": 14,
   "metadata": {},
   "outputs": [
    {
     "data": {
      "text/plain": [
       "[83, 79, 5, 645, 77, 6345]"
      ]
     },
     "execution_count": 14,
     "metadata": {},
     "output_type": "execute_result"
    }
   ],
   "source": [
    "x_test"
   ]
  }
 ],
 "metadata": {
  "kernelspec": {
   "display_name": "Python 3",
   "language": "python",
   "name": "python3"
  },
  "language_info": {
   "codemirror_mode": {
    "name": "ipython",
    "version": 3
   },
   "file_extension": ".py",
   "mimetype": "text/x-python",
   "name": "python",
   "nbconvert_exporter": "python",
   "pygments_lexer": "ipython3",
   "version": "3.8.3"
  },
  "toc": {
   "base_numbering": 1,
   "nav_menu": {},
   "number_sections": true,
   "sideBar": true,
   "skip_h1_title": false,
   "title_cell": "Table of Contents",
   "title_sidebar": "Contents",
   "toc_cell": false,
   "toc_position": {},
   "toc_section_display": true,
   "toc_window_display": true
  },
  "varInspector": {
   "cols": {
    "lenName": 16,
    "lenType": 16,
    "lenVar": 40
   },
   "kernels_config": {
    "python": {
     "delete_cmd_postfix": "",
     "delete_cmd_prefix": "del ",
     "library": "var_list.py",
     "varRefreshCmd": "print(var_dic_list())"
    },
    "r": {
     "delete_cmd_postfix": ") ",
     "delete_cmd_prefix": "rm(",
     "library": "var_list.r",
     "varRefreshCmd": "cat(var_dic_list()) "
    }
   },
   "types_to_exclude": [
    "module",
    "function",
    "builtin_function_or_method",
    "instance",
    "_Feature"
   ],
   "window_display": false
  }
 },
 "nbformat": 4,
 "nbformat_minor": 4
}
